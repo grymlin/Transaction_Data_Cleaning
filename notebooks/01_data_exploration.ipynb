{
 "cells": [
  {
   "cell_type": "markdown",
   "id": "b2ecd4a4",
   "metadata": {},
   "source": [
    "# Data Exploration: Cafe Sales Dataset\n",
    "\n",
    "This notebook provides an overview of the raw cafe sales data, including data loading, inspection, missing value analysis, experimental standardization, and outlier detection."
   ]
  },
  {
   "cell_type": "code",
   "execution_count": null,
   "id": "f6385535",
   "metadata": {},
   "outputs": [],
   "source": [
    "# Initial setup\n",
    "import numpy as np\n",
    "import pandas as pd\n",
    "from scipy import stats\n",
    "import matplotlib as plt\n"
   ]
  },
  {
   "cell_type": "markdown",
   "id": "cf9f8505",
   "metadata": {},
   "source": [
    "## Load the Dataset\n",
    "\n",
    "Read the raw cafe sales data from a CSV file into a pandas DataFrame for exploration."
   ]
  },
  {
   "cell_type": "code",
   "execution_count": null,
   "id": "43741655",
   "metadata": {},
   "outputs": [],
   "source": [
    "# Load data\n",
    "df = pd.read_csv(r\"C:\\Users\\rymot\\Desktop\\Data Cleaning\\data\\dirty_cafe_sales.csv\")"
   ]
  },
  {
   "cell_type": "markdown",
   "id": "c986276f",
   "metadata": {},
   "source": [
    "## Preview the Data\n",
    "\n",
    "Display the first 10 rows of the dataset to get an initial sense of the data structure and contents."
   ]
  },
  {
   "cell_type": "code",
   "execution_count": null,
   "id": "9ba10359",
   "metadata": {},
   "outputs": [],
   "source": [
    "#Display the first 10 rows of the Df\n",
    "head = df.head(10)\n",
    "df.head(10)"
   ]
  },
  {
   "cell_type": "markdown",
   "id": "b932bc74",
   "metadata": {},
   "source": [
    "## View Data Columns\n",
    "\n",
    "Display the column names in the dataset to understand the available features."
   ]
  },
  {
   "cell_type": "code",
   "execution_count": 116,
   "id": "b1736125",
   "metadata": {},
   "outputs": [
    {
     "data": {
      "text/plain": [
       "Index(['Transaction ID', 'Item', 'Quantity', 'Price Per Unit', 'Total Spent',\n",
       "       'Payment Method', 'Location', 'Transaction Date'],\n",
       "      dtype='object')"
      ]
     },
     "execution_count": 116,
     "metadata": {},
     "output_type": "execute_result"
    }
   ],
   "source": [
    "#Display the columns\n",
    "df.columns"
   ]
  },
  {
   "cell_type": "markdown",
   "id": "54b2c2d8",
   "metadata": {},
   "source": [
    "## Summary Statistics\n",
    "\n",
    "Display summary statistics for the dataset to understand distributions, central tendencies, and spread of numeric columns."
   ]
  },
  {
   "cell_type": "code",
   "execution_count": 117,
   "id": "37e61df1",
   "metadata": {},
   "outputs": [
    {
     "name": "stdout",
     "output_type": "stream",
     "text": [
      "       Transaction ID   Item Quantity Price Per Unit Total Spent  \\\n",
      "count           10000   9667     9862           9821        9827   \n",
      "unique          10000     10        7              8          19   \n",
      "top       TXN_1961373  Juice        5            3.0         6.0   \n",
      "freq                1   1171     2013           2429         979   \n",
      "\n",
      "        Payment Method  Location Transaction Date  \n",
      "count             7421      6735             9841  \n",
      "unique               5         4              367  \n",
      "top     Digital Wallet  Takeaway          UNKNOWN  \n",
      "freq              2291      3022              159  \n"
     ]
    }
   ],
   "source": [
    "print(df.describe())"
   ]
  },
  {
   "cell_type": "markdown",
   "id": "db1ab5cb",
   "metadata": {},
   "source": [
    "## Data Types, Missing Values, and Unique Values\n",
    "\n",
    "Display the data types, count of missing values, and number of unique values for each column to assess data quality and structure."
   ]
  },
  {
   "cell_type": "code",
   "execution_count": null,
   "id": "5ea4a11f",
   "metadata": {},
   "outputs": [],
   "source": [
    "print(\"Data types:\")\n",
    "print(df.dtypes)\n",
    "\n",
    "print(\"\\nMissing values:\")\n",
    "print(df.isnull().sum())\n",
    "\n",
    "print(\"\\nUnique values per column:\")\n",
    "print(df.nunique())\n"
   ]
  },
  {
   "cell_type": "markdown",
   "id": "94680379",
   "metadata": {},
   "source": [
    "## Replace Empty Strings with NaN\n",
    "\n",
    "Replace all empty string values in the DataFrame with NaN to standardize missing value representation."
   ]
  },
  {
   "cell_type": "code",
   "execution_count": 119,
   "id": "c313c09f",
   "metadata": {},
   "outputs": [],
   "source": [
    "df = df.replace('', np.nan)                   "
   ]
  },
  {
   "cell_type": "markdown",
   "id": "97fd24b2",
   "metadata": {},
   "source": [
    "## Missing Value Summary\n",
    "\n",
    "Summarize the count and percentage of missing values for each column to identify data quality issues."
   ]
  },
  {
   "cell_type": "code",
   "execution_count": 120,
   "id": "241d96ad",
   "metadata": {},
   "outputs": [
    {
     "data": {
      "text/html": [
       "<div>\n",
       "<style scoped>\n",
       "    .dataframe tbody tr th:only-of-type {\n",
       "        vertical-align: middle;\n",
       "    }\n",
       "\n",
       "    .dataframe tbody tr th {\n",
       "        vertical-align: top;\n",
       "    }\n",
       "\n",
       "    .dataframe thead th {\n",
       "        text-align: right;\n",
       "    }\n",
       "</style>\n",
       "<table border=\"1\" class=\"dataframe\">\n",
       "  <thead>\n",
       "    <tr style=\"text-align: right;\">\n",
       "      <th></th>\n",
       "      <th>null_count</th>\n",
       "      <th>null_percentage</th>\n",
       "    </tr>\n",
       "  </thead>\n",
       "  <tbody>\n",
       "    <tr>\n",
       "      <th>Transaction ID</th>\n",
       "      <td>0</td>\n",
       "      <td>0.00</td>\n",
       "    </tr>\n",
       "    <tr>\n",
       "      <th>Item</th>\n",
       "      <td>333</td>\n",
       "      <td>3.33</td>\n",
       "    </tr>\n",
       "    <tr>\n",
       "      <th>Quantity</th>\n",
       "      <td>138</td>\n",
       "      <td>1.38</td>\n",
       "    </tr>\n",
       "    <tr>\n",
       "      <th>Price Per Unit</th>\n",
       "      <td>179</td>\n",
       "      <td>1.79</td>\n",
       "    </tr>\n",
       "    <tr>\n",
       "      <th>Total Spent</th>\n",
       "      <td>173</td>\n",
       "      <td>1.73</td>\n",
       "    </tr>\n",
       "    <tr>\n",
       "      <th>Payment Method</th>\n",
       "      <td>2579</td>\n",
       "      <td>25.79</td>\n",
       "    </tr>\n",
       "    <tr>\n",
       "      <th>Location</th>\n",
       "      <td>3265</td>\n",
       "      <td>32.65</td>\n",
       "    </tr>\n",
       "    <tr>\n",
       "      <th>Transaction Date</th>\n",
       "      <td>159</td>\n",
       "      <td>1.59</td>\n",
       "    </tr>\n",
       "  </tbody>\n",
       "</table>\n",
       "</div>"
      ],
      "text/plain": [
       "                  null_count  null_percentage\n",
       "Transaction ID             0             0.00\n",
       "Item                     333             3.33\n",
       "Quantity                 138             1.38\n",
       "Price Per Unit           179             1.79\n",
       "Total Spent              173             1.73\n",
       "Payment Method          2579            25.79\n",
       "Location                3265            32.65\n",
       "Transaction Date         159             1.59"
      ]
     },
     "execution_count": 120,
     "metadata": {},
     "output_type": "execute_result"
    }
   ],
   "source": [
    "#Check for null values\n",
    "missing_summary = pd.DataFrame({\n",
    "    'null_count': df.isnull().sum(),\n",
    "    'null_percentage': (df.isnull().sum() / len(df)) * 100,\n",
    "})\n",
    "missing_summary"
   ]
  },
  {
   "cell_type": "markdown",
   "id": "9d87bc18",
   "metadata": {},
   "source": [
    "## Error and Unknown Value Summary\n",
    "\n",
    "Count the number of 'error' and 'unknown' values in each column to identify potential data entry issues."
   ]
  },
  {
   "cell_type": "code",
   "execution_count": null,
   "id": "66eab051",
   "metadata": {},
   "outputs": [],
   "source": [
    "error_counts = df.apply(lambda col: col.astype(str).str.lower().str.count('error').sum())\n",
    "unknown_counts = df.apply(lambda col: col.astype(str).str.lower().str.count('unknown').sum())\n",
    "\n",
    "error_unknown_summary = pd.DataFrame({\n",
    "    'error_count': error_counts,\n",
    "    'unknown_count': unknown_counts\n",
    "})\n",
    "\n",
    "error_unknown_summary"
   ]
  },
  {
   "cell_type": "markdown",
   "id": "8764c696",
   "metadata": {},
   "source": [
    "## Preview Data After Initial Cleaning\n",
    "\n",
    "Display the first 10 rows again to observe any changes after initial cleaning steps."
   ]
  },
  {
   "cell_type": "code",
   "execution_count": 122,
   "id": "3d4bc968",
   "metadata": {},
   "outputs": [
    {
     "data": {
      "text/html": [
       "<div>\n",
       "<style scoped>\n",
       "    .dataframe tbody tr th:only-of-type {\n",
       "        vertical-align: middle;\n",
       "    }\n",
       "\n",
       "    .dataframe tbody tr th {\n",
       "        vertical-align: top;\n",
       "    }\n",
       "\n",
       "    .dataframe thead th {\n",
       "        text-align: right;\n",
       "    }\n",
       "</style>\n",
       "<table border=\"1\" class=\"dataframe\">\n",
       "  <thead>\n",
       "    <tr style=\"text-align: right;\">\n",
       "      <th></th>\n",
       "      <th>Transaction ID</th>\n",
       "      <th>Item</th>\n",
       "      <th>Quantity</th>\n",
       "      <th>Price Per Unit</th>\n",
       "      <th>Total Spent</th>\n",
       "      <th>Payment Method</th>\n",
       "      <th>Location</th>\n",
       "      <th>Transaction Date</th>\n",
       "    </tr>\n",
       "  </thead>\n",
       "  <tbody>\n",
       "    <tr>\n",
       "      <th>0</th>\n",
       "      <td>TXN_1961373</td>\n",
       "      <td>Coffee</td>\n",
       "      <td>2</td>\n",
       "      <td>2.0</td>\n",
       "      <td>4.0</td>\n",
       "      <td>Credit Card</td>\n",
       "      <td>Takeaway</td>\n",
       "      <td>2023-09-08</td>\n",
       "    </tr>\n",
       "    <tr>\n",
       "      <th>1</th>\n",
       "      <td>TXN_4977031</td>\n",
       "      <td>Cake</td>\n",
       "      <td>4</td>\n",
       "      <td>3.0</td>\n",
       "      <td>12.0</td>\n",
       "      <td>Cash</td>\n",
       "      <td>In-store</td>\n",
       "      <td>2023-05-16</td>\n",
       "    </tr>\n",
       "    <tr>\n",
       "      <th>2</th>\n",
       "      <td>TXN_4271903</td>\n",
       "      <td>Cookie</td>\n",
       "      <td>4</td>\n",
       "      <td>1.0</td>\n",
       "      <td>ERROR</td>\n",
       "      <td>Credit Card</td>\n",
       "      <td>In-store</td>\n",
       "      <td>2023-07-19</td>\n",
       "    </tr>\n",
       "    <tr>\n",
       "      <th>3</th>\n",
       "      <td>TXN_7034554</td>\n",
       "      <td>Salad</td>\n",
       "      <td>2</td>\n",
       "      <td>5.0</td>\n",
       "      <td>10.0</td>\n",
       "      <td>UNKNOWN</td>\n",
       "      <td>UNKNOWN</td>\n",
       "      <td>2023-04-27</td>\n",
       "    </tr>\n",
       "    <tr>\n",
       "      <th>4</th>\n",
       "      <td>TXN_3160411</td>\n",
       "      <td>Coffee</td>\n",
       "      <td>2</td>\n",
       "      <td>2.0</td>\n",
       "      <td>4.0</td>\n",
       "      <td>Digital Wallet</td>\n",
       "      <td>In-store</td>\n",
       "      <td>2023-06-11</td>\n",
       "    </tr>\n",
       "    <tr>\n",
       "      <th>5</th>\n",
       "      <td>TXN_2602893</td>\n",
       "      <td>Smoothie</td>\n",
       "      <td>5</td>\n",
       "      <td>4.0</td>\n",
       "      <td>20.0</td>\n",
       "      <td>Credit Card</td>\n",
       "      <td>NaN</td>\n",
       "      <td>2023-03-31</td>\n",
       "    </tr>\n",
       "    <tr>\n",
       "      <th>6</th>\n",
       "      <td>TXN_4433211</td>\n",
       "      <td>UNKNOWN</td>\n",
       "      <td>3</td>\n",
       "      <td>3.0</td>\n",
       "      <td>9.0</td>\n",
       "      <td>ERROR</td>\n",
       "      <td>Takeaway</td>\n",
       "      <td>2023-10-06</td>\n",
       "    </tr>\n",
       "    <tr>\n",
       "      <th>7</th>\n",
       "      <td>TXN_6699534</td>\n",
       "      <td>Sandwich</td>\n",
       "      <td>4</td>\n",
       "      <td>4.0</td>\n",
       "      <td>16.0</td>\n",
       "      <td>Cash</td>\n",
       "      <td>UNKNOWN</td>\n",
       "      <td>2023-10-28</td>\n",
       "    </tr>\n",
       "    <tr>\n",
       "      <th>8</th>\n",
       "      <td>TXN_4717867</td>\n",
       "      <td>NaN</td>\n",
       "      <td>5</td>\n",
       "      <td>3.0</td>\n",
       "      <td>15.0</td>\n",
       "      <td>NaN</td>\n",
       "      <td>Takeaway</td>\n",
       "      <td>2023-07-28</td>\n",
       "    </tr>\n",
       "    <tr>\n",
       "      <th>9</th>\n",
       "      <td>TXN_2064365</td>\n",
       "      <td>Sandwich</td>\n",
       "      <td>5</td>\n",
       "      <td>4.0</td>\n",
       "      <td>20.0</td>\n",
       "      <td>NaN</td>\n",
       "      <td>In-store</td>\n",
       "      <td>2023-12-31</td>\n",
       "    </tr>\n",
       "  </tbody>\n",
       "</table>\n",
       "</div>"
      ],
      "text/plain": [
       "  Transaction ID      Item Quantity Price Per Unit Total Spent  \\\n",
       "0    TXN_1961373    Coffee        2            2.0         4.0   \n",
       "1    TXN_4977031      Cake        4            3.0        12.0   \n",
       "2    TXN_4271903    Cookie        4            1.0       ERROR   \n",
       "3    TXN_7034554     Salad        2            5.0        10.0   \n",
       "4    TXN_3160411    Coffee        2            2.0         4.0   \n",
       "5    TXN_2602893  Smoothie        5            4.0        20.0   \n",
       "6    TXN_4433211   UNKNOWN        3            3.0         9.0   \n",
       "7    TXN_6699534  Sandwich        4            4.0        16.0   \n",
       "8    TXN_4717867       NaN        5            3.0        15.0   \n",
       "9    TXN_2064365  Sandwich        5            4.0        20.0   \n",
       "\n",
       "   Payment Method  Location Transaction Date  \n",
       "0     Credit Card  Takeaway       2023-09-08  \n",
       "1            Cash  In-store       2023-05-16  \n",
       "2     Credit Card  In-store       2023-07-19  \n",
       "3         UNKNOWN   UNKNOWN       2023-04-27  \n",
       "4  Digital Wallet  In-store       2023-06-11  \n",
       "5     Credit Card       NaN       2023-03-31  \n",
       "6           ERROR  Takeaway       2023-10-06  \n",
       "7            Cash   UNKNOWN       2023-10-28  \n",
       "8             NaN  Takeaway       2023-07-28  \n",
       "9             NaN  In-store       2023-12-31  "
      ]
     },
     "execution_count": 122,
     "metadata": {},
     "output_type": "execute_result"
    }
   ],
   "source": [
    "df.head(10)"
   ]
  },
  {
   "cell_type": "markdown",
   "id": "5ebc49f0",
   "metadata": {},
   "source": [
    "## Convert Columns to Numeric\n",
    "\n",
    "Convert relevant columns to numeric types, coercing errors to NaN to ensure proper calculations and analysis."
   ]
  },
  {
   "cell_type": "code",
   "execution_count": null,
   "id": "3e58d21d",
   "metadata": {},
   "outputs": [],
   "source": [
    "# Convert relevant columns to numeric, coercing errors to NaN\n",
    "df['Quantity'] = pd.to_numeric(df['Quantity'], errors='coerce')\n",
    "df['Price Per Unit'] = pd.to_numeric(df['Price Per Unit'], errors='coerce')\n",
    "df['Total Spent'] = pd.to_numeric(df['Total Spent'], errors='coerce')"
   ]
  },
  {
   "cell_type": "markdown",
   "id": "6374580c",
   "metadata": {},
   "source": [
    "## Check Data Types After Conversion\n",
    "\n",
    "Display the data types of the numeric columns after conversion to confirm the changes."
   ]
  },
  {
   "cell_type": "code",
   "execution_count": 124,
   "id": "64a30602",
   "metadata": {},
   "outputs": [
    {
     "name": "stdout",
     "output_type": "stream",
     "text": [
      "Quantity          float64\n",
      "Price Per Unit    float64\n",
      "Total Spent       float64\n",
      "dtype: object\n"
     ]
    }
   ],
   "source": [
    "print(df[['Quantity', 'Price Per Unit', 'Total Spent']].dtypes)\n",
    "# Should now show float64 or int64 instead of object"
   ]
  },
  {
   "cell_type": "markdown",
   "id": "5bed354a",
   "metadata": {},
   "source": [
    "## Check for Missing Values in Quantity\n",
    "\n",
    "Count the number of missing (NaN) values in the 'Quantity' column after conversion."
   ]
  },
  {
   "cell_type": "code",
   "execution_count": 102,
   "id": "64a6c701",
   "metadata": {},
   "outputs": [
    {
     "name": "stdout",
     "output_type": "stream",
     "text": [
      "Number of NaN values in 'Quantity': 479\n"
     ]
    }
   ],
   "source": [
    "nan_count = df[\"Quantity\"].isna().sum()\n",
    "print(f\"Number of NaN values in 'Quantity': {nan_count}\")\n"
   ]
  },
  {
   "cell_type": "markdown",
   "id": "8e3b14f9",
   "metadata": {},
   "source": [
    "## Fill Missing Numeric Values\n",
    "\n",
    "Fill missing values in 'Quantity', 'Price Per Unit', and 'Total Spent' using available data from the other columns."
   ]
  },
  {
   "cell_type": "code",
   "execution_count": 127,
   "id": "cc9780a4",
   "metadata": {},
   "outputs": [],
   "source": [
    "# Fill missing \"Total Spent\" where Price & Quantity are available\n",
    "df.loc[df[\"Total Spent\"].isna() & ~df[\"Price Per Unit\"].isna() & ~df[\"Quantity\"].isna(), \n",
    "       \"Total Spent\"] = df[\"Price Per Unit\"] * df[\"Quantity\"]\n",
    "\n",
    "# Fill missing \"Price Per Unit\" where Total Spent & Quantity are available\n",
    "df.loc[df[\"Price Per Unit\"].isna() & ~df[\"Total Spent\"].isna() & ~df[\"Quantity\"].isna(), \n",
    "       \"Price Per Unit\"] = df[\"Total Spent\"] / df[\"Quantity\"]\n",
    "\n",
    "# Fill missing \"Quantity\" where Total Spent & Price Per Unit are available\n",
    "df.loc[df[\"Quantity\"].isna() & ~df[\"Total Spent\"].isna() & ~df[\"Price Per Unit\"].isna(), \n",
    "       \"Quantity\"] = df[\"Total Spent\"] / df[\"Price Per Unit\"]"
   ]
  },
  {
   "cell_type": "markdown",
   "id": "c76e550b",
   "metadata": {},
   "source": [
    "## (Optional) Drop Rows with Remaining Missing Values\n",
    "\n",
    "Optionally, drop rows where any of the key numeric columns are still missing after filling."
   ]
  },
  {
   "cell_type": "code",
   "execution_count": null,
   "id": "8f2f2629",
   "metadata": {},
   "outputs": [],
   "source": [
    "#df = df.dropna(subset=[\"Price Per Unit\", \"Quantity\", \"Total Spent\"])"
   ]
  },
  {
   "cell_type": "markdown",
   "id": "1e0dc67e",
   "metadata": {},
   "source": [
    "## Outlier Detection\n",
    "\n",
    "Detect outliers in the numeric columns using z-scores to identify potentially anomalous data points."
   ]
  },
  {
   "cell_type": "code",
   "execution_count": 128,
   "id": "033eeb8d",
   "metadata": {},
   "outputs": [
    {
     "name": "stdout",
     "output_type": "stream",
     "text": [
      "Found 0 outliers.\n"
     ]
    }
   ],
   "source": [
    "#Looking for outliers\n",
    "\n",
    "numeric_cols = df.select_dtypes(include=[np.number]).columns\n",
    "df_z = pd.DataFrame()\n",
    "\n",
    "for col in numeric_cols:\n",
    "    df_z[f\"{col}_zscore\"] = np.abs(stats.zscore(df[col], nan_policy='omit'))  # Omits NaN values\n",
    "df = df.reset_index(drop=True)  # Reset index to avoid alignment issues\n",
    "outliers = df[(df_z > 3).any(axis=1)] \n",
    "print(f\"Found {len(outliers)} outliers.\")"
   ]
  }
 ],
 "metadata": {
  "kernelspec": {
   "display_name": "Cleanvenv",
   "language": "python",
   "name": "python3"
  },
  "language_info": {
   "codemirror_mode": {
    "name": "ipython",
    "version": 3
   },
   "file_extension": ".py",
   "mimetype": "text/x-python",
   "name": "python",
   "nbconvert_exporter": "python",
   "pygments_lexer": "ipython3",
   "version": "3.13.2"
  }
 },
 "nbformat": 4,
 "nbformat_minor": 5
}
