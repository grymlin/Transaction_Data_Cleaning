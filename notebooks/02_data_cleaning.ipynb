{
 "cells": [
  {
   "cell_type": "markdown",
   "id": "930f32c2",
   "metadata": {},
   "source": [
    "# Data Cleaning: Cafe Sales Dataset\n",
    "\n",
    "This notebook demonstrates the process of cleaning and standardizing a cafe sales dataset. The steps include handling missing values, correcting data types, and visualizing the effects of cleaning operations."
   ]
  },
  {
   "cell_type": "code",
   "execution_count": 243,
   "id": "f089b091",
   "metadata": {},
   "outputs": [],
   "source": [
    "# Initial setup\n",
    "import pandas as pd\n",
    "import numpy as np\n",
    "import matplotlib.pyplot as plt\n",
    "import seaborn as sns\n",
    "from datetime import datetime\n",
    "import warnings\n",
    "warnings.filterwarnings('ignore')\n",
    "\n",
    "pd.set_option('display.max_columns', None)\n",
    "pd.set_option('display.width', None)"
   ]
  },
  {
   "cell_type": "markdown",
   "id": "0b6fbf6b",
   "metadata": {},
   "source": [
    "## Load the Dataset\n",
    "\n",
    "Read the raw cafe sales data from a CSV file into a pandas DataFrame for cleaning and analysis."
   ]
  },
  {
   "cell_type": "code",
   "execution_count": 244,
   "id": "7fb70be0",
   "metadata": {},
   "outputs": [
    {
     "name": "stdout",
     "output_type": "stream",
     "text": [
      "Dataset shape: (10000, 8)\n"
     ]
    },
    {
     "data": {
      "text/html": [
       "<div>\n",
       "<style scoped>\n",
       "    .dataframe tbody tr th:only-of-type {\n",
       "        vertical-align: middle;\n",
       "    }\n",
       "\n",
       "    .dataframe tbody tr th {\n",
       "        vertical-align: top;\n",
       "    }\n",
       "\n",
       "    .dataframe thead th {\n",
       "        text-align: right;\n",
       "    }\n",
       "</style>\n",
       "<table border=\"1\" class=\"dataframe\">\n",
       "  <thead>\n",
       "    <tr style=\"text-align: right;\">\n",
       "      <th></th>\n",
       "      <th>Transaction ID</th>\n",
       "      <th>Item</th>\n",
       "      <th>Quantity</th>\n",
       "      <th>Price Per Unit</th>\n",
       "      <th>Total Spent</th>\n",
       "      <th>Payment Method</th>\n",
       "      <th>Location</th>\n",
       "      <th>Transaction Date</th>\n",
       "    </tr>\n",
       "  </thead>\n",
       "  <tbody>\n",
       "    <tr>\n",
       "      <th>0</th>\n",
       "      <td>TXN_1961373</td>\n",
       "      <td>Coffee</td>\n",
       "      <td>2</td>\n",
       "      <td>2.0</td>\n",
       "      <td>4.0</td>\n",
       "      <td>Credit Card</td>\n",
       "      <td>Takeaway</td>\n",
       "      <td>2023-09-08</td>\n",
       "    </tr>\n",
       "    <tr>\n",
       "      <th>1</th>\n",
       "      <td>TXN_4977031</td>\n",
       "      <td>Cake</td>\n",
       "      <td>4</td>\n",
       "      <td>3.0</td>\n",
       "      <td>12.0</td>\n",
       "      <td>Cash</td>\n",
       "      <td>In-store</td>\n",
       "      <td>2023-05-16</td>\n",
       "    </tr>\n",
       "    <tr>\n",
       "      <th>2</th>\n",
       "      <td>TXN_4271903</td>\n",
       "      <td>Cookie</td>\n",
       "      <td>4</td>\n",
       "      <td>1.0</td>\n",
       "      <td>ERROR</td>\n",
       "      <td>Credit Card</td>\n",
       "      <td>In-store</td>\n",
       "      <td>2023-07-19</td>\n",
       "    </tr>\n",
       "  </tbody>\n",
       "</table>\n",
       "</div>"
      ],
      "text/plain": [
       "  Transaction ID    Item Quantity Price Per Unit Total Spent Payment Method  \\\n",
       "0    TXN_1961373  Coffee        2            2.0         4.0    Credit Card   \n",
       "1    TXN_4977031    Cake        4            3.0        12.0           Cash   \n",
       "2    TXN_4271903  Cookie        4            1.0       ERROR    Credit Card   \n",
       "\n",
       "   Location Transaction Date  \n",
       "0  Takeaway       2023-09-08  \n",
       "1  In-store       2023-05-16  \n",
       "2  In-store       2023-07-19  "
      ]
     },
     "execution_count": 244,
     "metadata": {},
     "output_type": "execute_result"
    }
   ],
   "source": [
    "# Load data\n",
    "df = pd.read_csv(r\"C:\\Users\\rymot\\Desktop\\Data Cleaning\\data\\dirty_cafe_sales.csv\")\n",
    "print(f\"Dataset shape: {df.shape}\")\n",
    "df.head(3)"
   ]
  },
  {
   "cell_type": "markdown",
   "id": "b4f9cfca",
   "metadata": {},
   "source": [
    "## Create a Clean Copy\n",
    "\n",
    "Make a copy of the original DataFrame to preserve the raw data and perform cleaning operations on the duplicate."
   ]
  },
  {
   "cell_type": "code",
   "execution_count": 245,
   "id": "a578f933",
   "metadata": {},
   "outputs": [],
   "source": [
    "#Create a clean copy\n",
    "df_clean = df.copy()"
   ]
  },
  {
   "cell_type": "code",
   "execution_count": 246,
   "id": "90fd1b59",
   "metadata": {},
   "outputs": [],
   "source": [
    "# Convert relevant columns to numeric, coercing errors to NaN\n",
    "df_clean['Quantity'] = pd.to_numeric(df['Quantity'], errors='coerce')\n",
    "df_clean['Price Per Unit'] = pd.to_numeric(df['Price Per Unit'], errors='coerce')\n",
    "df_clean['Total Spent'] = pd.to_numeric(df['Total Spent'], errors='coerce')"
   ]
  },
  {
   "cell_type": "markdown",
   "id": "68713ff7",
   "metadata": {},
   "source": [
    "## Check for Missing Values in Numeric Columns\n",
    "\n",
    "Count the number of missing (NaN) values in the key numeric columns before cleaning."
   ]
  },
  {
   "cell_type": "code",
   "execution_count": 247,
   "id": "6b56a0fd",
   "metadata": {},
   "outputs": [
    {
     "name": "stdout",
     "output_type": "stream",
     "text": [
      "Number of NaN values in 'Quantity': 138\n",
      "Number of NaN values in 'Price Per Unit': 179\n",
      "Number of NaN values in 'Total Spent': 173\n"
     ]
    }
   ],
   "source": [
    "nan_count_Quantity = df[\"Quantity\"].isna().sum()\n",
    "print(f\"Number of NaN values in 'Quantity': {nan_count_Quantity}\")\n",
    "nan_count_Price_Per_Unit = df[\"Price Per Unit\"].isna().sum()\n",
    "print(f\"Number of NaN values in 'Price Per Unit': {nan_count_Price_Per_Unit}\")\n",
    "nan_count_Total_Spent = df[\"Total Spent\"].isna().sum()\n",
    "print(f\"Number of NaN values in 'Total Spent': {nan_count_Total_Spent}\")\n"
   ]
  },
  {
   "cell_type": "markdown",
   "id": "1b9bd96a",
   "metadata": {},
   "source": [
    "## Fill Missing Numeric Values\n",
    "\n",
    "Fill missing values in 'Quantity', 'Price Per Unit', and 'Total Spent' by using available data from the other columns, ensuring consistency in the dataset."
   ]
  },
  {
   "cell_type": "code",
   "execution_count": 248,
   "id": "1f038e59",
   "metadata": {},
   "outputs": [],
   "source": [
    "# Fill missing Na in numerical values\n",
    "\n",
    "df_clean.loc[df_clean[\"Total Spent\"].isna() & ~df_clean[\"Price Per Unit\"].isna() & ~df_clean[\"Quantity\"].isna(), \n",
    "             \"Total Spent\"] = df_clean[\"Price Per Unit\"] * df_clean[\"Quantity\"]\n",
    "\n",
    "df_clean.loc[df_clean[\"Price Per Unit\"].isna() & ~df_clean[\"Total Spent\"].isna() & ~df_clean[\"Quantity\"].isna(), \n",
    "             \"Price Per Unit\"] = df_clean[\"Total Spent\"] / df_clean[\"Quantity\"]\n",
    "\n",
    "df_clean.loc[df_clean[\"Quantity\"].isna() & ~df_clean[\"Total Spent\"].isna() & ~df_clean[\"Price Per Unit\"].isna(), \n",
    "             \"Quantity\"] = df_clean[\"Total Spent\"] / df_clean[\"Price Per Unit\"]\n"
   ]
  },
  {
   "cell_type": "markdown",
   "id": "79cb0898",
   "metadata": {},
   "source": [
    "## Visualize Remaining Missing Values\n",
    "\n",
    "Visualize the number of missing values in each numeric column after attempting to fill them, to assess the effectiveness of the filling operation."
   ]
  },
  {
   "cell_type": "code",
   "execution_count": 249,
   "id": "d08eb977",
   "metadata": {},
   "outputs": [
    {
     "data": {
      "image/png": "[encoded data removed]",
      "text/plain": [
       "<Figure size 800x400 with 1 Axes>"
      ]
     },
     "metadata": {},
     "output_type": "display_data"
    }
   ],
   "source": [
    "# Comparative bar plot: NaN counts before and after numeric conversion\n",
    "nan_counts_before = [df['Quantity'].isna().sum(), df['Price Per Unit'].isna().sum(), df['Total Spent'].isna().sum()]\n",
    "nan_counts_after = [df_clean['Quantity'].isna().sum(), df_clean['Price Per Unit'].isna().sum(), df_clean['Total Spent'].isna().sum()]\n",
    "\n",
    "nan_compare_df = pd.DataFrame({\n",
    "    'Column': ['Quantity', 'Price Per Unit', 'Total Spent'],\n",
    "    'Before Conversion': nan_counts_before,\n",
    "    'After Conversion': nan_counts_after\n",
    "})\n",
    "\n",
    "nan_compare_df_melted = nan_compare_df.melt(id_vars='Column', var_name='Stage', value_name='NaN Count')\n",
    "\n",
    "plt.figure(figsize=(8,4))\n",
    "sns.barplot(data=nan_compare_df_melted, x='Column', y='NaN Count', hue='Stage')\n",
    "plt.title('NaN Counts Before and After Numeric Conversion')\n",
    "plt.tight_layout()\n",
    "plt.show()"
   ]
  },
  {
   "cell_type": "markdown",
   "id": "b4f74599",
   "metadata": {},
   "source": [
    "## Standardize Missing and Invalid Categorical Values\n",
    "\n",
    "Standardize missing or invalid entries in the 'Item', 'Payment Method', and 'Location' columns by replacing them with consistent placeholder values. This ensures uniformity and simplifies further analysis."
   ]
  },
  {
   "cell_type": "code",
   "execution_count": 250,
   "id": "9432b61d",
   "metadata": {},
   "outputs": [
    {
     "name": "stdout",
     "output_type": "stream",
     "text": [
      "Standardized 677 'Item' values to 'Unknown Item'.\n",
      "Standardized 2885 'Payment Method' values to 'Unknown'.\n",
      "Standardized 3603 'Location' values to 'Unknown'.\n"
     ]
    }
   ],
   "source": [
    "# Standardize missing values and count how many were replaced\n",
    "\n",
    "# Items\n",
    "item_missing = df_clean['Item'].isnull() | (df_clean['Item'] == '') | (df_clean['Item'] == 'UNKNOWN')\n",
    "num_item_fixed = item_missing.sum()\n",
    "if num_item_fixed > 0:\n",
    "    df_clean.loc[item_missing, 'Item'] = 'Unknown Item'\n",
    "    print(f\"Standardized {num_item_fixed} 'Item' values to 'Unknown Item'.\")\n",
    "\n",
    "# Payment Methods\n",
    "payment_issues = df_clean['Payment Method'].isnull() | (df_clean['Payment Method'] == '') | (df_clean['Payment Method'] == 'ERROR')\n",
    "num_payment_fixed = payment_issues.sum()\n",
    "if num_payment_fixed > 0:\n",
    "    df_clean.loc[payment_issues, 'Payment Method'] = 'Unknown'\n",
    "    print(f\"Standardized {num_payment_fixed} 'Payment Method' values to 'Unknown'.\")\n",
    "\n",
    "# Locations\n",
    "location_issues = df_clean['Location'].isnull() | (df_clean['Location'] == '') | (df_clean['Location'] == 'UNKNOWN')\n",
    "num_location_fixed = location_issues.sum()\n",
    "if num_location_fixed > 0:\n",
    "    df_clean.loc[location_issues, 'Location'] = 'Unknown'\n",
    "    print(f\"Standardized {num_location_fixed} 'Location' values to 'Unknown'.\")\n"
   ]
  },
  {
   "cell_type": "markdown",
   "id": "289026f4",
   "metadata": {},
   "source": [
    "## Visualizing Standardization of Missing Values\n",
    "\n",
    "The bar plot below shows how many missing or invalid values were standardized for each key column."
   ]
  },
  {
   "cell_type": "code",
   "execution_count": 251,
   "id": "781d1dcc",
   "metadata": {},
   "outputs": [
    {
     "data": {
      "image/png": "[encoded data removed]",
      "text/plain": [
       "<Figure size 600x400 with 1 Axes>"
      ]
     },
     "metadata": {},
     "output_type": "display_data"
    }
   ],
   "source": [
    "\n",
    "# Prepare data for visualization\n",
    "standardized_counts = {\n",
    "    'Item': num_item_fixed,\n",
    "    'Payment Method': num_payment_fixed,\n",
    "    'Location': num_location_fixed\n",
    "}\n",
    "\n",
    "fix_df = pd.DataFrame(list(standardized_counts.items()), columns=['Column', 'Standardized Count'])\n",
    "\n",
    "# Plot\n",
    "plt.figure(figsize=(6,4))\n",
    "sns.barplot(data=fix_df, x='Column', y='Standardized Count', palette='viridis')\n",
    "plt.title('Number of Standardized Missing/Invalid Values')\n",
    "plt.ylabel('Count')\n",
    "plt.xlabel('Column')\n",
    "plt.tight_layout()\n",
    "plt.show()"
   ]
  },
  {
   "cell_type": "markdown",
   "id": "685471d5",
   "metadata": {},
   "source": [
    "## Count Invalid Date Entries Before Cleaning:\n",
    "Calculate and display the number of invalid (non-parsable) entries in the 'Transaction Date' column before any date cleaning is applied"
   ]
  },
  {
   "cell_type": "code",
   "execution_count": null,
   "id": "1d98f35a",
   "metadata": {},
   "outputs": [
    {
     "name": "stdout",
     "output_type": "stream",
     "text": [
      "Number of invalid 'Transaction Date' entries before cleaning: 460\n"
     ]
    }
   ],
   "source": [
    "# Count invalid date entries before cleaning\n",
    "invalid_dates_before = pd.to_datetime(df_clean['Transaction Date'], errors='coerce').isna().sum()\n",
    "print(f\"Number of invalid 'Transaction Date' entries before cleaning: {invalid_dates_before}\")"
   ]
  },
  {
   "cell_type": "markdown",
   "id": "82703217",
   "metadata": {},
   "source": [
    "## Clean and Validate Date Values\n",
    "\n",
    "Convert the 'Transaction Date' column to datetime, replacing invalid entries with NaT (Not a Time), and filter out or review invalid dates for further cleaning."
   ]
  },
  {
   "cell_type": "code",
   "execution_count": 253,
   "id": "12760b56",
   "metadata": {},
   "outputs": [],
   "source": [
    "# Replace invalid entries with NaT (Not a Time)\n",
    "df_clean['Transaction Date'] = pd.to_datetime(df_clean['Transaction Date'], errors='coerce')\n",
    "\n",
    "#Filter the invalid entries\n",
    "invalid_dates = df_clean[df_clean['Transaction Date'].isna()]"
   ]
  },
  {
   "cell_type": "markdown",
   "id": "a27100c1",
   "metadata": {},
   "source": [
    "## Parse Dates After Cleaning\n",
    "\n",
    "Re-parse the 'Transaction Date' column to ensure all valid dates are in the correct datetime format after initial cleaning."
   ]
  },
  {
   "cell_type": "code",
   "execution_count": null,
   "id": "86c44357",
   "metadata": {},
   "outputs": [],
   "source": [
    "df_clean['Transaction Date'] = pd.to_datetime(df_clean['Transaction Date'])\n",
    "\n",
    "print(\"Missing values after cleaning\")\n",
    "df_clean.isnull().sum()\n"
   ]
  },
  {
   "cell_type": "markdown",
   "id": "66004cdd",
   "metadata": {},
   "source": [
    "## Sample Cleaned Date Values\n",
    "\n",
    "Display a random sample of cleaned 'Transaction Date' values to inspect the results of the date cleaning process."
   ]
  },
  {
   "cell_type": "code",
   "execution_count": 256,
   "id": "47e20adb",
   "metadata": {},
   "outputs": [
    {
     "name": "stdout",
     "output_type": "stream",
     "text": [
      "['2023-06-08T00:00:00.000000000' '2023-01-23T00:00:00.000000000'\n",
      " '2023-01-04T00:00:00.000000000' '2023-05-21T00:00:00.000000000'\n",
      " '2023-04-01T00:00:00.000000000' '2023-10-17T00:00:00.000000000'\n",
      " '2023-06-15T00:00:00.000000000' '2023-08-11T00:00:00.000000000'\n",
      " '2023-10-30T00:00:00.000000000' '2023-12-01T00:00:00.000000000']\n"
     ]
    }
   ],
   "source": [
    "# Sample some date values\n",
    "print(df_clean['Transaction Date'].sample(10).values)"
   ]
  },
  {
   "cell_type": "markdown",
   "id": "35d5fb80",
   "metadata": {},
   "source": [
    "## Visualizing Standardization of Transaction Dates\n",
    "\n",
    "The following plot shows how many 'Transaction Date' entries were valid and how many were standardized (set to NaT) during the cleaning process. This helps illustrate the impact of standardizing invalid or unparsable date values in the dataset."
   ]
  },
  {
   "cell_type": "code",
   "execution_count": 276,
   "id": "5fee6969",
   "metadata": {},
   "outputs": [
    {
     "data": {
      "image/png": "[encoded data removed]",
      "text/plain": [
       "<Figure size 500x400 with 1 Axes>"
      ]
     },
     "metadata": {},
     "output_type": "display_data"
    }
   ],
   "source": [
    "# Visualize standardization of 'Transaction Date' after cleaning\n",
    "\n",
    "# Count valid and standardized (invalid) entries after cleaning\n",
    "valid_dates_count = df_clean['Transaction Date'].notna().sum()\n",
    "standardized_invalid_count = df_clean['Transaction Date'].isna().sum()\n",
    "\n",
    "# Prepare data for visualization\n",
    "date_standardization = pd.DataFrame({\n",
    "    'Status': ['Valid Date', 'Standardized (Invalid/NaT)'],\n",
    "    'Count': [valid_dates_count, standardized_invalid_count]\n",
    "})\n",
    "\n",
    "# Plot\n",
    "plt.figure(figsize=(5,4))\n",
    "sns.barplot(data=date_standardization, x='Status', y='Count', palette='pastel')\n",
    "plt.title(\"Standardization of 'Transaction Date' After Cleaning\")\n",
    "plt.ylabel('Number of Entries')\n",
    "plt.xlabel('Date Status')\n",
    "plt.tight_layout()\n",
    "plt.show()\n"
   ]
  },
  {
   "cell_type": "markdown",
   "id": "28da3c9f",
   "metadata": {},
   "source": [
    "## Missing Values in Original Data\n",
    "\n",
    "Display the count of missing values in each column of the original dataset for comparison with the cleaned data."
   ]
  },
  {
   "cell_type": "code",
   "execution_count": 257,
   "id": "332b1fc3",
   "metadata": {},
   "outputs": [
    {
     "data": {
      "text/plain": [
       "Transaction ID         0\n",
       "Item                 333\n",
       "Quantity             138\n",
       "Price Per Unit       179\n",
       "Total Spent          173\n",
       "Payment Method      2579\n",
       "Location            3265\n",
       "Transaction Date     159\n",
       "dtype: int64"
      ]
     },
     "execution_count": 257,
     "metadata": {},
     "output_type": "execute_result"
    }
   ],
   "source": [
    "df.isnull().sum()\n"
   ]
  },
  {
   "cell_type": "markdown",
   "id": "629cbbe4",
   "metadata": {},
   "source": [
    "## Validate Calculated Totals\n",
    "\n",
    "Recalculate 'Total Spent' from 'Quantity' and 'Price Per Unit' and compare with the existing values to validate the consistency of the cleaned data."
   ]
  },
  {
   "cell_type": "code",
   "execution_count": 258,
   "id": "2c5752d7",
   "metadata": {},
   "outputs": [
    {
     "name": "stdout",
     "output_type": "stream",
     "text": [
      "Calculation validation: 9942/10000 rows correct\n"
     ]
    }
   ],
   "source": [
    "df_clean['Recalculated_Total'] = df_clean['Quantity'] * df_clean['Price Per Unit']\n",
    "calculation_check = np.isclose(df_clean['Total Spent'], df_clean['Recalculated_Total'], rtol=1e-05)\n",
    "print(f\"Calculation validation: {calculation_check.sum()}/{len(df_clean)} rows correct\")"
   ]
  }
 ],
 "metadata": {
  "kernelspec": {
   "display_name": "Cleanvenv",
   "language": "python",
   "name": "python3"
  },
  "language_info": {
   "codemirror_mode": {
    "name": "ipython",
    "version": 3
   },
   "file_extension": ".py",
   "mimetype": "text/x-python",
   "name": "python",
   "nbconvert_exporter": "python",
   "pygments_lexer": "ipython3",
   "version": "3.13.2"
  }
 },
 "nbformat": 4,
 "nbformat_minor": 5
}
