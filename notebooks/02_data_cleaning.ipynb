{
 "cells": [
  {
   "cell_type": "markdown",
   "id": "930f32c2",
   "metadata": {},
   "source": [
    "# Data Cleaning: Cafe Sales Dataset\n",
    "\n",
    "This notebook demonstrates the process of cleaning and standardizing a cafe sales dataset. The steps include handling missing values, correcting data types, and visualizing the effects of cleaning operations."
   ]
  },
  {
   "cell_type": "code",
   "execution_count": null,
   "id": "f089b091",
   "metadata": {},
   "outputs": [],
   "source": [
    "# Initial setup\n",
    "import pandas as pd\n",
    "import numpy as np\n",
    "import matplotlib.pyplot as plt\n",
    "import seaborn as sns\n",
    "from datetime import datetime\n",
    "import warnings\n",
    "from IPython.display import FileLink, display, Markdown\n",
    "\n",
    "warnings.filterwarnings('ignore')\n",
    "\n",
    "pd.set_option('display.max_columns', None)\n",
    "pd.set_option('display.width', None)"
   ]
  },
  {
   "cell_type": "markdown",
   "id": "0b6fbf6b",
   "metadata": {},
   "source": [
    "## Load the Dataset\n",
    "\n",
    "Read the raw cafe sales data from a CSV file into a pandas DataFrame for cleaning and analysis."
   ]
  },
  {
   "cell_type": "code",
   "execution_count": 169,
   "id": "7fb70be0",
   "metadata": {},
   "outputs": [
    {
     "name": "stdout",
     "output_type": "stream",
     "text": [
      "Dataset shape: (10000, 8)\n"
     ]
    },
    {
     "data": {
      "text/html": [
       "<div>\n",
       "<style scoped>\n",
       "    .dataframe tbody tr th:only-of-type {\n",
       "        vertical-align: middle;\n",
       "    }\n",
       "\n",
       "    .dataframe tbody tr th {\n",
       "        vertical-align: top;\n",
       "    }\n",
       "\n",
       "    .dataframe thead th {\n",
       "        text-align: right;\n",
       "    }\n",
       "</style>\n",
       "<table border=\"1\" class=\"dataframe\">\n",
       "  <thead>\n",
       "    <tr style=\"text-align: right;\">\n",
       "      <th></th>\n",
       "      <th>Transaction ID</th>\n",
       "      <th>Item</th>\n",
       "      <th>Quantity</th>\n",
       "      <th>Price Per Unit</th>\n",
       "      <th>Total Spent</th>\n",
       "      <th>Payment Method</th>\n",
       "      <th>Location</th>\n",
       "      <th>Transaction Date</th>\n",
       "    </tr>\n",
       "  </thead>\n",
       "  <tbody>\n",
       "    <tr>\n",
       "      <th>0</th>\n",
       "      <td>TXN_1961373</td>\n",
       "      <td>Coffee</td>\n",
       "      <td>2</td>\n",
       "      <td>2.0</td>\n",
       "      <td>4.0</td>\n",
       "      <td>Credit Card</td>\n",
       "      <td>Takeaway</td>\n",
       "      <td>2023-09-08</td>\n",
       "    </tr>\n",
       "    <tr>\n",
       "      <th>1</th>\n",
       "      <td>TXN_4977031</td>\n",
       "      <td>Cake</td>\n",
       "      <td>4</td>\n",
       "      <td>3.0</td>\n",
       "      <td>12.0</td>\n",
       "      <td>Cash</td>\n",
       "      <td>In-store</td>\n",
       "      <td>2023-05-16</td>\n",
       "    </tr>\n",
       "    <tr>\n",
       "      <th>2</th>\n",
       "      <td>TXN_4271903</td>\n",
       "      <td>Cookie</td>\n",
       "      <td>4</td>\n",
       "      <td>1.0</td>\n",
       "      <td>ERROR</td>\n",
       "      <td>Credit Card</td>\n",
       "      <td>In-store</td>\n",
       "      <td>2023-07-19</td>\n",
       "    </tr>\n",
       "  </tbody>\n",
       "</table>\n",
       "</div>"
      ],
      "text/plain": [
       "  Transaction ID    Item Quantity Price Per Unit Total Spent Payment Method  \\\n",
       "0    TXN_1961373  Coffee        2            2.0         4.0    Credit Card   \n",
       "1    TXN_4977031    Cake        4            3.0        12.0           Cash   \n",
       "2    TXN_4271903  Cookie        4            1.0       ERROR    Credit Card   \n",
       "\n",
       "   Location Transaction Date  \n",
       "0  Takeaway       2023-09-08  \n",
       "1  In-store       2023-05-16  \n",
       "2  In-store       2023-07-19  "
      ]
     },
     "execution_count": 169,
     "metadata": {},
     "output_type": "execute_result"
    }
   ],
   "source": [
    "# Load data\n",
    "df = pd.read_csv(r\"C:\\Users\\rymot\\Desktop\\Data Cleaning\\data\\dirty_cafe_sales.csv\")\n",
    "print(f\"Dataset shape: {df.shape}\")\n",
    "df.head(3)"
   ]
  },
  {
   "cell_type": "markdown",
   "id": "b4f9cfca",
   "metadata": {},
   "source": [
    "## Create a Clean Copy\n",
    "\n",
    "Make a copy of the original DataFrame to preserve the raw data and perform cleaning operations on the duplicate."
   ]
  },
  {
   "cell_type": "code",
   "execution_count": 170,
   "id": "a578f933",
   "metadata": {},
   "outputs": [],
   "source": [
    "#Create a clean copy\n",
    "df_clean = df.copy()"
   ]
  },
  {
   "cell_type": "code",
   "execution_count": 171,
   "id": "90fd1b59",
   "metadata": {},
   "outputs": [],
   "source": [
    "# Convert relevant columns to numeric, coercing errors to NaN\n",
    "df_clean['Quantity'] = pd.to_numeric(df['Quantity'], errors='coerce')\n",
    "df_clean['Price Per Unit'] = pd.to_numeric(df['Price Per Unit'], errors='coerce')\n",
    "df_clean['Total Spent'] = pd.to_numeric(df['Total Spent'], errors='coerce')"
   ]
  },
  {
   "cell_type": "markdown",
   "id": "68713ff7",
   "metadata": {},
   "source": [
    "### Check for Missing Values in Numeric Columns\n",
    "\n",
    "Count the number of missing (NaN) values in the key numeric columns before cleaning."
   ]
  },
  {
   "cell_type": "code",
   "execution_count": 172,
   "id": "6b56a0fd",
   "metadata": {},
   "outputs": [
    {
     "name": "stdout",
     "output_type": "stream",
     "text": [
      "Number of NaN values in 'Quantity': 138\n",
      "Number of NaN values in 'Price Per Unit': 179\n",
      "Number of NaN values in 'Total Spent': 173\n"
     ]
    }
   ],
   "source": [
    "nan_count_Quantity = df[\"Quantity\"].isna().sum()\n",
    "print(f\"Number of NaN values in 'Quantity': {nan_count_Quantity}\")\n",
    "nan_count_Price_Per_Unit = df[\"Price Per Unit\"].isna().sum()\n",
    "print(f\"Number of NaN values in 'Price Per Unit': {nan_count_Price_Per_Unit}\")\n",
    "nan_count_Total_Spent = df[\"Total Spent\"].isna().sum()\n",
    "print(f\"Number of NaN values in 'Total Spent': {nan_count_Total_Spent}\")\n"
   ]
  },
  {
   "cell_type": "markdown",
   "id": "1b9bd96a",
   "metadata": {},
   "source": [
    "### Fill Missing Numeric Values\n",
    "\n",
    "Fill missing values in 'Quantity', 'Price Per Unit', and 'Total Spent' by using available data from the other columns, ensuring consistency in the dataset."
   ]
  },
  {
   "cell_type": "code",
   "execution_count": 173,
   "id": "1f038e59",
   "metadata": {},
   "outputs": [],
   "source": [
    "# Fill missing Na in numerical values\n",
    "\n",
    "df_clean.loc[df_clean[\"Total Spent\"].isna() & ~df_clean[\"Price Per Unit\"].isna() & ~df_clean[\"Quantity\"].isna(), \n",
    "             \"Total Spent\"] = df_clean[\"Price Per Unit\"] * df_clean[\"Quantity\"]\n",
    "\n",
    "df_clean.loc[df_clean[\"Price Per Unit\"].isna() & ~df_clean[\"Total Spent\"].isna() & ~df_clean[\"Quantity\"].isna(), \n",
    "             \"Price Per Unit\"] = df_clean[\"Total Spent\"] / df_clean[\"Quantity\"]\n",
    "\n",
    "df_clean.loc[df_clean[\"Quantity\"].isna() & ~df_clean[\"Total Spent\"].isna() & ~df_clean[\"Price Per Unit\"].isna(), \n",
    "             \"Quantity\"] = df_clean[\"Total Spent\"] / df_clean[\"Price Per Unit\"]\n"
   ]
  },
  {
   "cell_type": "markdown",
   "id": "cf6488d4",
   "metadata": {},
   "source": [
    "### Check Consistency of 'Total Spent' Calculation\n",
    "\n",
    "Verify that the 'Total Spent' column matches the product of 'Quantity' and 'Price Per Unit' for each row in the cleaned DataFrame. This check helps ensure that the 'Total Spent' values are accurate and consistent with the other numeric columns."
   ]
  },
  {
   "cell_type": "code",
   "execution_count": 174,
   "id": "7460d561",
   "metadata": {},
   "outputs": [
    {
     "name": "stdout",
     "output_type": "stream",
     "text": [
      "Rows where 'Total Spent' does NOT match 'Quantity' * 'Price Per Unit': 18\n"
     ]
    }
   ],
   "source": [
    "# Check if 'Total Spent' matches 'Quantity' * 'Price Per Unit'\n",
    "mismatch = ~np.isclose(\n",
    "    df_clean['Total Spent'],\n",
    "    df_clean['Quantity'] * df_clean['Price Per Unit'],\n",
    "    equal_nan=True\n",
    ")\n",
    "num_mismatch = mismatch.sum()\n",
    "print(f\"Rows where 'Total Spent' does NOT match 'Quantity' * 'Price Per Unit': {num_mismatch}\")"
   ]
  },
  {
   "cell_type": "markdown",
   "id": "d37a6ce2",
   "metadata": {},
   "source": [
    "### Recalculate Inconsistent 'Total Spent' Values\n",
    "\n",
    "For rows where the 'Total Spent' value does not match the product of 'Quantity' and 'Price Per Unit', recalculate and overwrite 'Total Spent' to ensure consistency. This step corrects any discrepancies and maintains data integrity in"
   ]
  },
  {
   "cell_type": "code",
   "execution_count": 175,
   "id": "9e0e94ee",
   "metadata": {},
   "outputs": [
    {
     "name": "stdout",
     "output_type": "stream",
     "text": [
      "Rows remaining with mismatch after fix: 0\n"
     ]
    }
   ],
   "source": [
    "# Fix mismatches\n",
    "df_clean.loc[mismatch, 'Total Spent'] = df_clean['Quantity'] * df_clean['Price Per Unit']\n",
    "\n",
    "# Verify fix\n",
    "mismatch_after = ~np.isclose(\n",
    "    df_clean['Total Spent'],\n",
    "    df_clean['Quantity'] * df_clean['Price Per Unit'],\n",
    "    equal_nan=True\n",
    ")\n",
    "print(f\"Rows remaining with mismatch after fix: {mismatch_after.sum()}\")"
   ]
  },
  {
   "cell_type": "markdown",
   "id": "79cb0898",
   "metadata": {},
   "source": [
    "### Visualize Remaining Missing Values\n",
    "\n",
    "Visualize the number of missing values in each numeric column after attempting to fill them, to assess the effectiveness of the filling operation."
   ]
  },
  {
   "cell_type": "code",
   "execution_count": 176,
   "id": "d08eb977",
   "metadata": {},
   "outputs": [
    {
     "data": {
      "image/png": "[encoded data removed]",
      "text/plain": [
       "<Figure size 800x400 with 1 Axes>"
      ]
     },
     "metadata": {},
     "output_type": "display_data"
    }
   ],
   "source": [
    "# Comparative bar plot: NaN counts before and after numeric conversion\n",
    "nan_counts_before = [df['Quantity'].isna().sum(), df['Price Per Unit'].isna().sum(), df['Total Spent'].isna().sum()]\n",
    "nan_counts_after = [df_clean['Quantity'].isna().sum(), df_clean['Price Per Unit'].isna().sum(), df_clean['Total Spent'].isna().sum()]\n",
    "\n",
    "nan_compare_df = pd.DataFrame({\n",
    "    'Column': ['Quantity', 'Price Per Unit', 'Total Spent'],\n",
    "    'Before Conversion': nan_counts_before,\n",
    "    'After Conversion': nan_counts_after\n",
    "})\n",
    "\n",
    "nan_compare_df_melted = nan_compare_df.melt(id_vars='Column', var_name='Stage', value_name='NaN Count')\n",
    "\n",
    "plt.figure(figsize=(8,4))\n",
    "sns.barplot(data=nan_compare_df_melted, x='Column', y='NaN Count', hue='Stage')\n",
    "plt.title('NaN Counts Before and After Numeric Conversion')\n",
    "plt.tight_layout()\n",
    "plt.show()"
   ]
  },
  {
   "cell_type": "markdown",
   "id": "685471d5",
   "metadata": {},
   "source": [
    "### Check Invalid Date Entries:\n",
    "Calculate and display the number of invalid (non-parsable) entries in the 'Transaction Date' column before any date cleaning is applied"
   ]
  },
  {
   "cell_type": "code",
   "execution_count": 177,
   "id": "1d98f35a",
   "metadata": {},
   "outputs": [
    {
     "name": "stdout",
     "output_type": "stream",
     "text": [
      "Number of invalid 'Transaction Date' entries before cleaning: 460\n"
     ]
    }
   ],
   "source": [
    "# Count invalid date entries before cleaning\n",
    "invalid_dates_before = pd.to_datetime(df['Transaction Date'], errors='coerce').isna().sum()\n",
    "print(f\"Number of invalid 'Transaction Date' entries before cleaning: {invalid_dates_before}\")"
   ]
  },
  {
   "cell_type": "markdown",
   "id": "82703217",
   "metadata": {},
   "source": [
    "### Clean and Validate Date Values\n",
    "\n",
    "Convert the 'Transaction Date' column to datetime, replacing invalid entries with NaT (Not a Time), and filter out or review invalid dates for further cleaning."
   ]
  },
  {
   "cell_type": "code",
   "execution_count": 196,
   "id": "12760b56",
   "metadata": {},
   "outputs": [
    {
     "name": "stdout",
     "output_type": "stream",
     "text": [
      "Number of invalid 'Transaction Date' entries before cleaning: 301\n",
      "Sample invalid 'Transaction Date' entries before cleaning:\n",
      "11       ERROR\n",
      "29       ERROR\n",
      "33       ERROR\n",
      "103      ERROR\n",
      "115    UNKNOWN\n",
      "Name: Transaction Date, dtype: object\n",
      "Number of entries converted to NaT after conversion: 301\n"
     ]
    }
   ],
   "source": [
    "# Preview and count invalid 'Transaction Date' entries before conversion\n",
    "\n",
    "# Find entries that are not null but will become NaT after conversion\n",
    "invalid_date_mask = pd.to_datetime(df['Transaction Date'], errors='coerce').isna() & df['Transaction Date'].notna()\n",
    "invalid_dates_before = df.loc[invalid_date_mask, 'Transaction Date']\n",
    "\n",
    "print(f\"Number of invalid 'Transaction Date' entries before cleaning: {invalid_dates_before.shape[0]}\")\n",
    "print(\"Sample invalid 'Transaction Date' entries before cleaning:\")\n",
    "print(invalid_dates_before.head())\n",
    "\n",
    "# Convert 'Transaction Date' to datetime, invalid entries become NaT\n",
    "df_clean['Transaction Date'] = pd.to_datetime(df_clean['Transaction Date'], errors='coerce')\n",
    "\n",
    "# Print how many were converted to NaT\n",
    "converted_to_nat = invalid_dates_before.shape[0]\n",
    "print(f\"Number of entries converted to NaT after conversion: {converted_to_nat}\")"
   ]
  },
  {
   "cell_type": "markdown",
   "id": "97c8f9fd",
   "metadata": {},
   "source": [
    "### Visualize Invalid 'Transaction Date' Values Before Cleaning\n",
    "\n",
    "The bar chart below displays the top 10 most frequent invalid date values found in the dataset prior to cleaning."
   ]
  },
  {
   "cell_type": "code",
   "execution_count": 222,
   "id": "1c33502d",
   "metadata": {},
   "outputs": [
    {
     "data": {
      "image/png": "[encoded data removed]",
      "text/plain": [
       "<Figure size 300x300 with 1 Axes>"
      ]
     },
     "metadata": {},
     "output_type": "display_data"
    }
   ],
   "source": [
    "# Count occurrences of each invalid value\n",
    "invalid_value_counts = invalid_dates_before.value_counts()\n",
    "\n",
    "# Plot the counts of each invalid value (top 10 for readability) as a pie chart\n",
    "plt.figure(figsize=(3, 3))\n",
    "invalid_value_counts.head(3).plot(kind='pie', autopct='%1.1f%%', startangle=140)\n",
    "plt.title(\"Top 3 Invalid 'Transaction Date' Values Before Conversion (Pie Chart)\")\n",
    "plt.ylabel(\"\")\n",
    "plt.tight_layout()\n",
    "plt.show()"
   ]
  },
  {
   "cell_type": "markdown",
   "id": "dcd3f338",
   "metadata": {},
   "source": [
    "### Check no Invalid 'Transaction Date' values are left"
   ]
  },
  {
   "cell_type": "code",
   "execution_count": 230,
   "id": "6807da80",
   "metadata": {},
   "outputs": [
    {
     "name": "stdout",
     "output_type": "stream",
     "text": [
      "Non-NaT, non-datetime values in df_clean['Transaction Date'] (should be empty):\n",
      "<DatetimeArray>\n",
      "[]\n",
      "Length: 0, dtype: datetime64[ns]\n"
     ]
    }
   ],
   "source": [
    "non_nat = df_clean['Transaction Date'].dropna()\n",
    "non_datetime = non_nat[~non_nat.apply(lambda x: isinstance(x, pd.Timestamp))]\n",
    "print(\"Non-NaT, non-datetime values in df_clean['Transaction Date'] (should be empty):\")\n",
    "print(non_datetime.unique())"
   ]
  },
  {
   "cell_type": "markdown",
   "id": "dd2d505a",
   "metadata": {
    "vscode": {
     "languageId": "markdown"
    }
   },
   "source": [
    "### Check for Duplicate Transaction IDs\n",
    "\n",
    "Check for duplicate 'Transaction ID' values in both the original and cleaned DataFrames to ensure each transaction is uniquely identified."
   ]
  },
  {
   "cell_type": "code",
   "execution_count": 179,
   "id": "0c109e74",
   "metadata": {},
   "outputs": [
    {
     "name": "stdout",
     "output_type": "stream",
     "text": [
      "Duplicate Transaction IDs in original df: 0\n",
      "Duplicate Transaction IDs in cleaned df_clean: 0\n"
     ]
    }
   ],
   "source": [
    "#  Check for duplicate Transaction IDs\n",
    "print(\"Duplicate Transaction IDs in original df:\", df['Transaction ID'].duplicated().sum())\n",
    "print(\"Duplicate Transaction IDs in cleaned df_clean:\", df_clean['Transaction ID'].duplicated().sum())"
   ]
  },
  {
   "cell_type": "markdown",
   "id": "07575eb7",
   "metadata": {},
   "source": [
    "### Check for Unexpected Payment Method Values\n",
    "Check for unexpected or inconsistent values in the 'Payment Method' column in both the original and cleaned DataFrames to ensure all payment methods are standardized."
   ]
  },
  {
   "cell_type": "code",
   "execution_count": 180,
   "id": "d0228aba",
   "metadata": {},
   "outputs": [
    {
     "name": "stdout",
     "output_type": "stream",
     "text": [
      "Unique Payment Methods in df: ['Credit Card' 'Cash' 'UNKNOWN' 'Digital Wallet' 'ERROR' nan]\n",
      "Unique Payment Methods in df_clean: ['Credit Card' 'Cash' 'UNKNOWN' 'Digital Wallet' 'ERROR' nan]\n"
     ]
    }
   ],
   "source": [
    "# Check for unexpected Payment Method values\n",
    "print(\"Unique Payment Methods in df:\", df['Payment Method'].unique())\n",
    "print(\"Unique Payment Methods in df_clean:\", df_clean['Payment Method'].unique())"
   ]
  },
  {
   "cell_type": "markdown",
   "id": "a8d1f544",
   "metadata": {},
   "source": [
    "### Standardize Unexpected Payment Method Values\n",
    "\n",
    "Identify and standardize invalid or inconsistent values in the 'Payment Method' column of the cleaned DataFrame. Values such as 'UNKNOWN', empty strings, and 'ERROR' are replaced with the consistent placeholder 'Unknown' to ensure uniformity in payment"
   ]
  },
  {
   "cell_type": "code",
   "execution_count": 181,
   "id": "08b6e9af",
   "metadata": {},
   "outputs": [
    {
     "name": "stdout",
     "output_type": "stream",
     "text": [
      "Standardized 3178 'Payment Method' values to 'Unknown'.\n",
      "Unique Payment Methods in df_clean after standardization: ['Credit Card' 'Cash' 'Unknown' 'Digital Wallet']\n"
     ]
    }
   ],
   "source": [
    "# Define invalid payment method values\n",
    "invalid_payment_methods = ['UNKNOWN', '', 'ERROR','nan_count_Price_Per_Unit', 'N/A','nan', 'None', 'null', 'NaN', 'NA', 'Unknown' ]\n",
    "\n",
    "# Count how many will be replaced\n",
    "num_payment_standardized = df_clean['Payment Method'].isin(invalid_payment_methods).sum() + df_clean['Payment Method'].isna().sum()\n",
    "\n",
    "# Replace with 'Unknown'\n",
    "df_clean.loc[df_clean['Payment Method'].isin(invalid_payment_methods), 'Payment Method'] = 'Unknown'\n",
    "df_clean.loc[df_clean['Payment Method'].isna(), 'Payment Method'] = 'Unknown'\n",
    "\n",
    "# Print the number of standardized values and unique payment methods\n",
    "print(f\"Standardized {num_payment_standardized} 'Payment Method' values to 'Unknown'.\")\n",
    "print(\"Unique Payment Methods in df_clean after standardization:\", df_clean['Payment Method'].unique())"
   ]
  },
  {
   "cell_type": "markdown",
   "id": "ce0456c3",
   "metadata": {},
   "source": [
    "### Visualize Payment Methods before vs after Standarization\n",
    "\n",
    "The donut chart below displays the distribution of all payment method values found in the raw vs processed dataset after standarization"
   ]
  },
  {
   "cell_type": "code",
   "execution_count": 234,
   "id": "00c2d09e",
   "metadata": {},
   "outputs": [
    {
     "data": {
      "image/png": "[encoded data removed]",
      "text/plain": [
       "<Figure size 800x500 with 2 Axes>"
      ]
     },
     "metadata": {},
     "output_type": "display_data"
    }
   ],
   "source": [
    "# Show donut charts for payment methods in raw and cleaned data side by side\n",
    "\n",
    "payment_counts_raw = df['Payment Method'].value_counts()\n",
    "payment_counts_clean = df_clean['Payment Method'].value_counts()\n",
    "\n",
    "fig, axes = plt.subplots(1, 2, figsize=(8, 5))\n",
    "\n",
    "# Raw data donut chart\n",
    "wedges1, texts1, autotexts1 = axes[0].pie(payment_counts_raw, labels=payment_counts_raw.index, autopct='%1.1f%%', startangle=140)\n",
    "centre_circle1 = plt.Circle((0,0),0.70,fc='white')\n",
    "axes[0].add_artist(centre_circle1)\n",
    "axes[0].set_title(\"Raw Data\")\n",
    "\n",
    "# Cleaned data donut chart\n",
    "wedges2, texts2, autotexts2 = axes[1].pie(payment_counts_clean, labels=payment_counts_clean.index, autopct='%1.1f%%', startangle=140)\n",
    "centre_circle2 = plt.Circle((0,0),0.70,fc='white')\n",
    "axes[1].add_artist(centre_circle2)\n",
    "axes[1].set_title(\"Cleaned Data\")\n",
    "\n",
    "plt.suptitle(\"Donut Charts of Payment Methods: Raw vs Cleaned Data\")\n",
    "plt.tight_layout()\n",
    "plt.show()"
   ]
  },
  {
   "cell_type": "markdown",
   "id": "c29d2da6",
   "metadata": {},
   "source": [
    "### Check for Unexpected Location Values\n",
    "\n",
    "Check for unexpected or inconsistent values in the 'Location' column in both the original and cleaned DataFrames to ensure all locations are standardized."
   ]
  },
  {
   "cell_type": "code",
   "execution_count": 217,
   "id": "0cafd560",
   "metadata": {},
   "outputs": [
    {
     "name": "stdout",
     "output_type": "stream",
     "text": [
      "Unique Locations in df: ['Takeaway' 'In-store' 'UNKNOWN' nan 'ERROR']\n"
     ]
    }
   ],
   "source": [
    "# Check for unexpected Location values\n",
    "print(\"Unique Locations in df:\", df['Location'].unique())\n",
    "\n"
   ]
  },
  {
   "cell_type": "markdown",
   "id": "26524adf",
   "metadata": {},
   "source": [
    "### Standardize Invalid Location Values\n",
    "\n",
    "Identify and standardize invalid or inconsistent values in the 'Location' column of the cleaned DataFrame. Values such as 'UNKNOWN', empty strings, and 'ERROR' are replaced with the consistent placeholder 'Unknown' to ensure uniformity in location"
   ]
  },
  {
   "cell_type": "code",
   "execution_count": 183,
   "id": "8f82cc22",
   "metadata": {},
   "outputs": [
    {
     "name": "stdout",
     "output_type": "stream",
     "text": [
      "Standardized 3961 'Location' values to 'Unknown'.\n",
      "Unique Locations in df_clean after standardization: ['Takeaway' 'In-store' 'Unknown']\n"
     ]
    }
   ],
   "source": [
    "# Define invalid location values\n",
    "invalid_location_values = ['UNKNOWN', '', 'ERROR', 'nan_count_Price_Per_Unit', 'N/A', 'nan', 'None', 'null', 'NaN', 'NA', 'Unknown']\n",
    "\n",
    "# Count how many will be replaced\n",
    "num_location_standardized = df_clean['Location'].isin(invalid_location_values).sum() + df_clean['Location'].isna().sum()\n",
    "\n",
    "# Replace with 'Unknown'\n",
    "df_clean.loc[df_clean['Location'].isin(invalid_location_values), 'Location'] = 'Unknown'\n",
    "df_clean.loc[df_clean['Location'].isna(), 'Location'] = 'Unknown'\n",
    "\n",
    "\n",
    "print(f\"Standardized {num_location_standardized} 'Location' values to 'Unknown'.\")\n",
    "print(\"Unique Locations in df_clean after standardization:\", df_clean['Location'].unique())"
   ]
  },
  {
   "cell_type": "markdown",
   "id": "31f514e2",
   "metadata": {},
   "source": [
    "### Pie Charts Comparing Location Values Before and After Cleaning\n",
    "\n",
    "The pie charts below compare the distribution of unique `Location` values in the raw dataset (`df`) and the cleaned dataset (`df_clean`). \n"
   ]
  },
  {
   "cell_type": "code",
   "execution_count": 235,
   "id": "964534fe",
   "metadata": {},
   "outputs": [
    {
     "data": {
      "image/png": "[encoded data removed]",
      "text/plain": [
       "<Figure size 800x500 with 2 Axes>"
      ]
     },
     "metadata": {},
     "output_type": "display_data"
    }
   ],
   "source": [
    "\n",
    "# Pie charts to compare unique Location values in df and df_clean\n",
    "location_counts_raw = df['Location'].value_counts()\n",
    "location_counts_clean = df_clean['Location'].value_counts()\n",
    "\n",
    "fig, axes = plt.subplots(1, 2, figsize=(8, 5))\n",
    "\n",
    "# Raw data pie chart\n",
    "axes[0].pie(location_counts_raw, labels=location_counts_raw.index, autopct='%1.1f%%', startangle=140)\n",
    "axes[0].set_title(\"Locations in Raw Data\")\n",
    "\n",
    "# Cleaned data pie chart\n",
    "axes[1].pie(location_counts_clean, labels=location_counts_clean.index, autopct='%1.1f%%', startangle=140)\n",
    "axes[1].set_title(\"Locations in Cleaned Data\")\n",
    "\n",
    "plt.suptitle(\"Pie Charts of Location Values: Raw vs Cleaned Data\")\n",
    "plt.tight_layout()"
   ]
  },
  {
   "cell_type": "markdown",
   "id": "4ee940bd",
   "metadata": {},
   "source": [
    "### Check Missing/Invalid 'Item' Values Before Standardization\n",
    "\n",
    "Count and display the number of missing or invalid values in the 'Item' column"
   ]
  },
  {
   "cell_type": "code",
   "execution_count": 184,
   "id": "9203fcfd",
   "metadata": {},
   "outputs": [
    {
     "name": "stdout",
     "output_type": "stream",
     "text": [
      "Missing or invalid 'Item' values before standardization: 969\n",
      "Unique Items in df_clean before standardization: ['Coffee' 'Cake' 'Cookie' 'Salad' 'Smoothie' 'UNKNOWN' 'Sandwich' nan\n",
      " 'ERROR' 'Juice' 'Tea']\n"
     ]
    }
   ],
   "source": [
    "# Check missing or invalid 'Item' values before standardization\n",
    "\n",
    "invalid_item_values = ['', 'UNKNOWN','Void', 'ERROR']\n",
    "item_missing_before = df_clean['Item'].isnull() | df_clean['Item'].isin(invalid_item_values)\n",
    "num_item_before = item_missing_before.sum()\n",
    "print(f\"Missing or invalid 'Item' values before standardization: {num_item_before}\")\n",
    "print(\"Unique Items in df_clean before standardization:\", df_clean['Item'].unique())"
   ]
  },
  {
   "cell_type": "markdown",
   "id": "2a26d814",
   "metadata": {},
   "source": [
    "### Standardize Missing or Invalid 'Item' Values\n",
    "\n",
    "Replace all missing or invalid values in the 'Item' column with the placeholder 'Unknown Item'"
   ]
  },
  {
   "cell_type": "code",
   "execution_count": 192,
   "id": "cab68dba",
   "metadata": {},
   "outputs": [
    {
     "name": "stdout",
     "output_type": "stream",
     "text": [
      "Standardized 969 'Item' values to 'Unknown Item'.\n",
      "Unique Items in df_clean after standardization: ['Coffee' 'Cake' 'Cookie' 'Salad' 'Smoothie' 'Unknown' 'Sandwich' 'Juice'\n",
      " 'Tea']\n"
     ]
    }
   ],
   "source": [
    "# Standardize missing or invalid 'Item' values and print before/after counts\n",
    "\n",
    "if num_item_before > 0:\n",
    "    df_clean.loc[item_missing_before, 'Item'] = 'Unknown'\n",
    "\n",
    "item_missing_after = df_clean['Item'].isnull() | df_clean['Item'].isin(invalid_item_values)\n",
    "\n",
    "# Standardize missing or invalid 'Item' values\n",
    "df_clean.loc[item_missing_before, 'Item'] = 'Unknown'\n",
    "\n",
    "print(f\"Standardized {num_item_before} 'Item' values to 'Unknown Item'.\")\n",
    "print(\"Unique Items in df_clean after standardization:\", df_clean['Item'].unique())"
   ]
  },
  {
   "cell_type": "markdown",
   "id": "02eca449",
   "metadata": {},
   "source": [
    "### Check for Future Transaction Dates\n",
    "\n",
    "Identify and count any 'Transaction Date' values that are set in the future (after today) in both the original and cleaned DataFrames. This helps detect and address potential data entry errors or inconsistencies in"
   ]
  },
  {
   "cell_type": "code",
   "execution_count": 186,
   "id": "44cf27e4",
   "metadata": {},
   "outputs": [
    {
     "name": "stdout",
     "output_type": "stream",
     "text": [
      "Future Transaction Dates in df: 0\n",
      "Future Transaction Dates in df_clean: 0\n"
     ]
    }
   ],
   "source": [
    "# Check for future Transaction Dates (after today)\n",
    "now = pd.Timestamp(datetime.now().date())\n",
    "future_dates_df = (pd.to_datetime(df['Transaction Date'], errors='coerce') > now).sum()\n",
    "future_dates_clean = (df_clean['Transaction Date'] > now).sum()\n",
    "print(f\"Future Transaction Dates in df: {future_dates_df}\")\n",
    "print(f\"Future Transaction Dates in df_clean: {future_dates_clean}\")"
   ]
  },
  {
   "cell_type": "markdown",
   "id": "480145a3",
   "metadata": {},
   "source": [
    "### Check for Duplicate Rows\n",
    "\n",
    "Check for duplicate rows (entire row duplicates) in both the original and cleaned DataFrames to identify and address any repeated records in the dataset."
   ]
  },
  {
   "cell_type": "code",
   "execution_count": 187,
   "id": "85fb7d3f",
   "metadata": {},
   "outputs": [
    {
     "name": "stdout",
     "output_type": "stream",
     "text": [
      "Duplicate rows in df: 0\n",
      "Duplicate rows in df_clean: 0\n"
     ]
    }
   ],
   "source": [
    "# Check for duplicate rows (entire row duplicates)\n",
    "dup_rows_df = df.duplicated().sum()\n",
    "dup_rows_clean = df_clean.duplicated().sum()\n",
    "print(f\"Duplicate rows in df: {dup_rows_df}\")\n",
    "print(f\"Duplicate rows in df_clean: {dup_rows_clean}\")"
   ]
  },
  {
   "cell_type": "markdown",
   "id": "7983a7ec",
   "metadata": {},
   "source": [
    "## Check for Outliers \n",
    "\n",
    "Assess the dataset for outliers in Numerical Columns of the dataframe"
   ]
  },
  {
   "cell_type": "code",
   "execution_count": 236,
   "id": "903191e9",
   "metadata": {},
   "outputs": [
    {
     "name": "stdout",
     "output_type": "stream",
     "text": [
      "99th percentile of Quantity in df: 5.0\n",
      "99th percentile of Quantity in df_clean: 5.0\n",
      "Number of Quantity outliers in df: 0\n",
      "Number of Quantity outliers in df_clean: 0\n",
      "99th percentile of Price Per Unit in df: 5.0\n",
      "99th percentile of Price Per Unit in df_clean: 5.0\n",
      "Number of Price Per Unit outliers in df: 0\n",
      "Number of Price Per Unit outliers in df_clean: 0\n",
      "99th percentile of Total Spent in df: 25.0\n",
      "99th percentile of Total Spent in df_clean: 25.0\n",
      "Number of Total Spent outliers in df: 0\n",
      "Number of Total Spent outliers in df_clean: 0\n"
     ]
    }
   ],
   "source": [
    "# Check for outliers (values > 99th percentile) in all numeric columns\n",
    "\n",
    "numeric_cols = ['Quantity', 'Price Per Unit', 'Total Spent']\n",
    "\n",
    "for col in numeric_cols:\n",
    "    q99_orig = pd.to_numeric(df[col], errors='coerce').quantile(0.99)\n",
    "    q99_clean = df_clean[col].quantile(0.99)\n",
    "    outliers_orig = (pd.to_numeric(df[col], errors='coerce') > q99_orig).sum()\n",
    "    outliers_clean = (df_clean[col] > q99_clean).sum()\n",
    "    print(f\"99th percentile of {col} in df: {q99_orig}\")\n",
    "    print(f\"99th percentile of {col} in df_clean: {q99_clean}\")\n",
    "    print(f\"Number of {col} outliers in df:\", outliers_orig)\n",
    "    print(f\"Number of {col} outliers in df_clean:\", outliers_clean)\n"
   ]
  },
  {
   "cell_type": "markdown",
   "id": "b24c8f95",
   "metadata": {},
   "source": [
    "## Download Cleaned Cafe Sales Data\n",
    "Click on the link below to downloaded a csv of the cleaned dataframe\n"
   ]
  },
  {
   "cell_type": "code",
   "execution_count": 224,
   "id": "b6cf3888",
   "metadata": {},
   "outputs": [
    {
     "data": {
      "text/html": [
       "<a href='cleaned_cafe_sales.csv' target='_blank'>cleaned_cafe_sales.csv</a><br>"
      ],
      "text/plain": [
       "c:\\Users\\rymot\\Desktop\\Data Cleaning\\notebooks\\cleaned_cafe_sales.csv"
      ]
     },
     "metadata": {},
     "output_type": "display_data"
    }
   ],
   "source": [
    "\n",
    "# Save cleaned DataFrame to CSV\n",
    "csv_filename = \"cleaned_cafe_sales.csv\"\n",
    "df_clean.to_csv(csv_filename, index=False)\n",
    "\n",
    "# Display markdown and download link\n",
    "display(FileLink(csv_filename))"
   ]
  }
 ],
 "metadata": {
  "kernelspec": {
   "display_name": "Cleanvenv",
   "language": "python",
   "name": "python3"
  },
  "language_info": {
   "codemirror_mode": {
    "name": "ipython",
    "version": 3
   },
   "file_extension": ".py",
   "mimetype": "text/x-python",
   "name": "python",
   "nbconvert_exporter": "python",
   "pygments_lexer": "ipython3",
   "version": "3.13.2"
  }
 },
 "nbformat": 4,
 "nbformat_minor": 5
}
