{
 "cells": [
  {
   "cell_type": "code",
   "execution_count": 1,
   "id": "f089b091",
   "metadata": {},
   "outputs": [],
   "source": [
    "# Initial setup\n",
    "import pandas as pd\n",
    "import numpy as np\n",
    "import matplotlib.pyplot as plt\n",
    "import seaborn as sns\n",
    "from datetime import datetime\n",
    "import warnings\n",
    "warnings.filterwarnings('ignore')\n",
    "\n",
    "pd.set_option('display.max_columns', None)\n",
    "pd.set_option('display.width', None)"
   ]
  },
  {
   "cell_type": "code",
   "execution_count": 16,
   "id": "7fb70be0",
   "metadata": {},
   "outputs": [
    {
     "name": "stdout",
     "output_type": "stream",
     "text": [
      "Dataset shape: (10000, 8)\n"
     ]
    },
    {
     "data": {
      "text/html": [
       "<div>\n",
       "<style scoped>\n",
       "    .dataframe tbody tr th:only-of-type {\n",
       "        vertical-align: middle;\n",
       "    }\n",
       "\n",
       "    .dataframe tbody tr th {\n",
       "        vertical-align: top;\n",
       "    }\n",
       "\n",
       "    .dataframe thead th {\n",
       "        text-align: right;\n",
       "    }\n",
       "</style>\n",
       "<table border=\"1\" class=\"dataframe\">\n",
       "  <thead>\n",
       "    <tr style=\"text-align: right;\">\n",
       "      <th></th>\n",
       "      <th>Transaction ID</th>\n",
       "      <th>Item</th>\n",
       "      <th>Quantity</th>\n",
       "      <th>Price Per Unit</th>\n",
       "      <th>Total Spent</th>\n",
       "      <th>Payment Method</th>\n",
       "      <th>Location</th>\n",
       "      <th>Transaction Date</th>\n",
       "    </tr>\n",
       "  </thead>\n",
       "  <tbody>\n",
       "    <tr>\n",
       "      <th>0</th>\n",
       "      <td>TXN_1961373</td>\n",
       "      <td>Coffee</td>\n",
       "      <td>2</td>\n",
       "      <td>2.0</td>\n",
       "      <td>4.0</td>\n",
       "      <td>Credit Card</td>\n",
       "      <td>Takeaway</td>\n",
       "      <td>2023-09-08</td>\n",
       "    </tr>\n",
       "    <tr>\n",
       "      <th>1</th>\n",
       "      <td>TXN_4977031</td>\n",
       "      <td>Cake</td>\n",
       "      <td>4</td>\n",
       "      <td>3.0</td>\n",
       "      <td>12.0</td>\n",
       "      <td>Cash</td>\n",
       "      <td>In-store</td>\n",
       "      <td>2023-05-16</td>\n",
       "    </tr>\n",
       "    <tr>\n",
       "      <th>2</th>\n",
       "      <td>TXN_4271903</td>\n",
       "      <td>Cookie</td>\n",
       "      <td>4</td>\n",
       "      <td>1.0</td>\n",
       "      <td>ERROR</td>\n",
       "      <td>Credit Card</td>\n",
       "      <td>In-store</td>\n",
       "      <td>2023-07-19</td>\n",
       "    </tr>\n",
       "  </tbody>\n",
       "</table>\n",
       "</div>"
      ],
      "text/plain": [
       "  Transaction ID    Item Quantity Price Per Unit Total Spent Payment Method  \\\n",
       "0    TXN_1961373  Coffee        2            2.0         4.0    Credit Card   \n",
       "1    TXN_4977031    Cake        4            3.0        12.0           Cash   \n",
       "2    TXN_4271903  Cookie        4            1.0       ERROR    Credit Card   \n",
       "\n",
       "   Location Transaction Date  \n",
       "0  Takeaway       2023-09-08  \n",
       "1  In-store       2023-05-16  \n",
       "2  In-store       2023-07-19  "
      ]
     },
     "execution_count": 16,
     "metadata": {},
     "output_type": "execute_result"
    }
   ],
   "source": [
    "# Load data\n",
    "df = pd.read_csv(r\"C:\\Users\\rymot\\Desktop\\Data Cleaning\\data\\dirty_cafe_sales.csv\")\n",
    "print(f\"Dataset shape: {df.shape}\")\n",
    "df.head(3)"
   ]
  },
  {
   "cell_type": "code",
   "execution_count": 29,
   "id": "a578f933",
   "metadata": {},
   "outputs": [],
   "source": [
    "#Create a clean copy\n",
    "df_clean = df.copy()"
   ]
  },
  {
   "cell_type": "code",
   "execution_count": 30,
   "id": "90fd1b59",
   "metadata": {},
   "outputs": [],
   "source": [
    "# Convert relevant columns to numeric, coercing errors to NaN\n",
    "df_clean['Quantity'] = pd.to_numeric(df['Quantity'], errors='coerce')\n",
    "df_clean['Price Per Unit'] = pd.to_numeric(df['Price Per Unit'], errors='coerce')\n",
    "df_clean['Total Spent'] = pd.to_numeric(df['Total Spent'], errors='coerce')"
   ]
  },
  {
   "cell_type": "code",
   "execution_count": 31,
   "id": "6b56a0fd",
   "metadata": {},
   "outputs": [
    {
     "name": "stdout",
     "output_type": "stream",
     "text": [
      "Number of NaN values in 'Quantity': 138\n",
      "Number of NaN values in 'Price Per Unit': 179\n",
      "Number of NaN values in 'Total Spent': 173\n"
     ]
    }
   ],
   "source": [
    "nan_count_Quantity = df[\"Quantity\"].isna().sum()\n",
    "print(f\"Number of NaN values in 'Quantity': {nan_count_Quantity}\")\n",
    "nan_count_Price_Per_Unit = df[\"Price Per Unit\"].isna().sum()\n",
    "print(f\"Number of NaN values in 'Price Per Unit': {nan_count_Price_Per_Unit}\")\n",
    "nan_count_Total_Spent = df[\"Total Spent\"].isna().sum()\n",
    "print(f\"Number of NaN values in 'Total Spent': {nan_count_Total_Spent}\")\n"
   ]
  },
  {
   "cell_type": "code",
   "execution_count": 32,
   "id": "1f038e59",
   "metadata": {},
   "outputs": [],
   "source": [
    "# Fill missing Na in numerical values\n",
    "\n",
    "df_clean.loc[df_clean[\"Total Spent\"].isna() & ~df_clean[\"Price Per Unit\"].isna() & ~df_clean[\"Quantity\"].isna(), \n",
    "             \"Total Spent\"] = df_clean[\"Price Per Unit\"] * df_clean[\"Quantity\"]\n",
    "\n",
    "df_clean.loc[df_clean[\"Price Per Unit\"].isna() & ~df_clean[\"Total Spent\"].isna() & ~df_clean[\"Quantity\"].isna(), \n",
    "             \"Price Per Unit\"] = df_clean[\"Total Spent\"] / df_clean[\"Quantity\"]\n",
    "\n",
    "df_clean.loc[df_clean[\"Quantity\"].isna() & ~df_clean[\"Total Spent\"].isna() & ~df_clean[\"Price Per Unit\"].isna(), \n",
    "             \"Quantity\"] = df_clean[\"Total Spent\"] / df_clean[\"Price Per Unit\"]\n"
   ]
  },
  {
   "cell_type": "code",
   "execution_count": 33,
   "id": "89243b05",
   "metadata": {},
   "outputs": [
    {
     "name": "stdout",
     "output_type": "stream",
     "text": [
      "Number of NaN values in 'Quantity': 38\n",
      "Number of NaN values in 'Price Per Unit': 38\n",
      "Number of NaN values in 'Total Spent': 40\n"
     ]
    }
   ],
   "source": [
    "nan_count_Quantity_clean = df_clean[\"Quantity\"].isna().sum()\n",
    "print(f\"Number of NaN values in 'Quantity': {nan_count_Quantity_clean}\")\n",
    "\n",
    "nan_count_Price_Per_Unit_clean = df_clean[\"Price Per Unit\"].isna().sum()\n",
    "print(f\"Number of NaN values in 'Price Per Unit': {nan_count_Price_Per_Unit_clean}\")\n",
    "\n",
    "nan_count_Total_Spent_clean = df_clean[\"Total Spent\"].isna().sum()\n",
    "print(f\"Number of NaN values in 'Total Spent': {nan_count_Total_Spent_clean}\")\n"
   ]
  },
  {
   "cell_type": "code",
   "execution_count": 22,
   "id": "7950b114",
   "metadata": {},
   "outputs": [
    {
     "data": {
      "image/png": "[encoded data removed]",
      "text/plain": [
       "<Figure size 800x600 with 1 Axes>"
      ]
     },
     "metadata": {},
     "output_type": "display_data"
    }
   ],
   "source": [
    "data = {\n",
    "    'Column': ['Quantity', 'Price Per Unit', 'Total Spent'] * 2,\n",
    "    'NaN Count': [\n",
    "        nan_count_Quantity,\n",
    "        nan_count_Price_Per_Unit,\n",
    "        nan_count_Total_Spent,\n",
    "        nan_count_Quantity_clean,\n",
    "        nan_count_Price_Per_Unit_clean,\n",
    "        nan_count_Total_Spent_clean\n",
    "    ],\n",
    "    'Dataset': ['df'] * 3 + ['df_clean'] * 3\n",
    "}\n",
    "\n",
    "df_nan_compare = pd.DataFrame(data)\n",
    "\n",
    "# Plot\n",
    "plt.figure(figsize=(8, 6))\n",
    "sns.barplot(data=df_nan_compare, x='Column', y='NaN Count', hue='Dataset')\n",
    "plt.title('Comparison of NaN Counts in df vs df_clean')\n",
    "plt.ylabel('Number of NaN Values')\n",
    "plt.xlabel('Column')\n",
    "plt.tight_layout()\n",
    "plt.show()\n"
   ]
  },
  {
   "cell_type": "code",
   "execution_count": 34,
   "id": "9432b61d",
   "metadata": {},
   "outputs": [
    {
     "name": "stdout",
     "output_type": "stream",
     "text": [
      "Standardized 677 'Item' values to 'Unknown Item'.\n",
      "Standardized 2885 'Payment Method' values to 'Unknown'.\n",
      "Standardized 3603 'Location' values to 'Unknown'.\n"
     ]
    }
   ],
   "source": [
    "# Standardize missing values and count how many were replaced\n",
    "\n",
    "# Items\n",
    "item_missing = df_clean['Item'].isnull() | (df_clean['Item'] == '') | (df_clean['Item'] == 'UNKNOWN')\n",
    "num_item_fixed = item_missing.sum()\n",
    "if num_item_fixed > 0:\n",
    "    df_clean.loc[item_missing, 'Item'] = 'Unknown Item'\n",
    "    print(f\"Standardized {num_item_fixed} 'Item' values to 'Unknown Item'.\")\n",
    "\n",
    "# Payment Methods\n",
    "payment_issues = df_clean['Payment Method'].isnull() | (df_clean['Payment Method'] == '') | (df_clean['Payment Method'] == 'ERROR')\n",
    "num_payment_fixed = payment_issues.sum()\n",
    "if num_payment_fixed > 0:\n",
    "    df_clean.loc[payment_issues, 'Payment Method'] = 'Unknown'\n",
    "    print(f\"Standardized {num_payment_fixed} 'Payment Method' values to 'Unknown'.\")\n",
    "\n",
    "# Locations\n",
    "location_issues = df_clean['Location'].isnull() | (df_clean['Location'] == '') | (df_clean['Location'] == 'UNKNOWN')\n",
    "num_location_fixed = location_issues.sum()\n",
    "if num_location_fixed > 0:\n",
    "    df_clean.loc[location_issues, 'Location'] = 'Unknown'\n",
    "    print(f\"Standardized {num_location_fixed} 'Location' values to 'Unknown'.\")\n"
   ]
  },
  {
   "cell_type": "code",
   "execution_count": 57,
   "id": "12760b56",
   "metadata": {},
   "outputs": [],
   "source": [
    "# Replace invalid entries with NaT (Not a Time)\n",
    "df_clean['Transaction Date'] = pd.to_datetime(df_clean['Transaction Date'], errors='coerce')\n",
    "\n",
    "#Filter the invalid entries\n",
    "invalid_dates = df_clean[df_clean['Transaction Date'].isna()]"
   ]
  },
  {
   "cell_type": "code",
   "execution_count": 58,
   "id": "86c44357",
   "metadata": {},
   "outputs": [],
   "source": [
    "df_clean['Transaction Date'] = pd.to_datetime(df_clean['Transaction Date'])"
   ]
  },
  {
   "cell_type": "code",
   "execution_count": 50,
   "id": "c7b17eab",
   "metadata": {},
   "outputs": [
    {
     "name": "stdout",
     "output_type": "stream",
     "text": [
      "Missing values after cleaning\n"
     ]
    },
    {
     "data": {
      "text/plain": [
       "Transaction ID          0\n",
       "Item                    0\n",
       "Quantity               38\n",
       "Price Per Unit         38\n",
       "Total Spent            40\n",
       "Payment Method          0\n",
       "Location                0\n",
       "Transaction Date      460\n",
       "Recalculated_Total     58\n",
       "dtype: int64"
      ]
     },
     "execution_count": 50,
     "metadata": {},
     "output_type": "execute_result"
    }
   ],
   "source": [
    "print(\"Missing values after cleaning\")\n",
    "df_clean.isnull().sum()\n"
   ]
  },
  {
   "cell_type": "code",
   "execution_count": 52,
   "id": "47e20adb",
   "metadata": {},
   "outputs": [
    {
     "name": "stdout",
     "output_type": "stream",
     "text": [
      "['2023-08-21T00:00:00.000000000' '2023-09-29T00:00:00.000000000'\n",
      " '2023-04-28T00:00:00.000000000' '2023-07-27T00:00:00.000000000'\n",
      " '2023-06-01T00:00:00.000000000' '2023-02-20T00:00:00.000000000'\n",
      " '2023-05-23T00:00:00.000000000' '2023-10-02T00:00:00.000000000'\n",
      " '2023-03-07T00:00:00.000000000' '2023-07-30T00:00:00.000000000']\n"
     ]
    }
   ],
   "source": [
    "# Sample some date values\n",
    "print(df_clean['Transaction Date'].sample(10).values)"
   ]
  },
  {
   "cell_type": "code",
   "execution_count": 51,
   "id": "332b1fc3",
   "metadata": {},
   "outputs": [
    {
     "data": {
      "text/plain": [
       "Transaction ID         0\n",
       "Item                 333\n",
       "Quantity             138\n",
       "Price Per Unit       179\n",
       "Total Spent          173\n",
       "Payment Method      2579\n",
       "Location            3265\n",
       "Transaction Date     159\n",
       "dtype: int64"
      ]
     },
     "execution_count": 51,
     "metadata": {},
     "output_type": "execute_result"
    }
   ],
   "source": [
    "df.isnull().sum()\n"
   ]
  },
  {
   "cell_type": "code",
   "execution_count": 40,
   "id": "2c5752d7",
   "metadata": {},
   "outputs": [
    {
     "name": "stdout",
     "output_type": "stream",
     "text": [
      "Calculation validation: 9942/10000 rows correct\n"
     ]
    }
   ],
   "source": [
    "df_clean['Recalculated_Total'] = df_clean['Quantity'] * df_clean['Price Per Unit']\n",
    "calculation_check = np.isclose(df_clean['Total Spent'], df_clean['Recalculated_Total'], rtol=1e-05)\n",
    "print(f\"Calculation validation: {calculation_check.sum()}/{len(df_clean)} rows correct\")"
   ]
  }
 ],
 "metadata": {
  "kernelspec": {
   "display_name": "Cleanvenv",
   "language": "python",
   "name": "python3"
  },
  "language_info": {
   "codemirror_mode": {
    "name": "ipython",
    "version": 3
   },
   "file_extension": ".py",
   "mimetype": "text/x-python",
   "name": "python",
   "nbconvert_exporter": "python",
   "pygments_lexer": "ipython3",
   "version": "3.13.2"
  }
 },
 "nbformat": 4,
 "nbformat_minor": 5
}
